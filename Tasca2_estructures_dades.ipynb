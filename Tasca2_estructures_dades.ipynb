{
  "nbformat": 4,
  "nbformat_minor": 0,
  "metadata": {
    "colab": {
      "name": "Tasca2_estructures_dades.ipynb",
      "provenance": [],
      "authorship_tag": "ABX9TyO64bL0ppBoeF3PmarT8Ika",
      "include_colab_link": true
    },
    "kernelspec": {
      "name": "python3",
      "display_name": "Python 3"
    },
    "language_info": {
      "name": "python"
    }
  },
  "cells": [
    {
      "cell_type": "markdown",
      "metadata": {
        "id": "view-in-github",
        "colab_type": "text"
      },
      "source": [
        "<a href=\"https://colab.research.google.com/github/itacademy-rogergallart/estructures_dades/blob/main/Tasca2_estructures_dades.ipynb\" target=\"_parent\"><img src=\"https://colab.research.google.com/assets/colab-badge.svg\" alt=\"Open In Colab\"/></a>"
      ]
    },
    {
      "cell_type": "markdown",
      "metadata": {
        "id": "hKCViIzy4ISt"
      },
      "source": [
        "# Tasca 2: Estructures de dades\n",
        "Roger Gallart - 19 abril 2021"
      ]
    },
    {
      "cell_type": "markdown",
      "metadata": {
        "id": "Cau-T24iWzDh"
      },
      "source": [
        "## Nivell 1"
      ]
    },
    {
      "cell_type": "markdown",
      "metadata": {
        "id": "2326yxLrW2I6"
      },
      "source": [
        "### Exercici 1\n",
        "Crea una llista que agrupi els mesos de l’any en trimestres (1T: Gener, Febrer i Març, 2T: Abril, Maig, Juny...), és a dir, una llista amb 4 llistes dins."
      ]
    },
    {
      "cell_type": "code",
      "metadata": {
        "id": "o6Z_yIe94GZX",
        "outputId": "c5c3e73a-67ad-448c-9871-a68e061c675b",
        "colab": {
          "base_uri": "https://localhost:8080/"
        }
      },
      "source": [
        "mesos = [['Gener','Febrer','Març'],\n",
        "                       ['Abril','Maig','Juny'],\n",
        "                       ['Juliol','Agost','Setembre'],\n",
        "                       ['Octubre','Novembre','Desembre']]\n",
        "mesos"
      ],
      "execution_count": 4,
      "outputs": [
        {
          "output_type": "execute_result",
          "data": {
            "text/plain": [
              "[['Gener', 'Febrer', 'Març'],\n",
              " ['Abril', 'Maig', 'Juny'],\n",
              " ['Juliol', 'Agost', 'Setembre'],\n",
              " ['Octubre', 'Novembre', 'Desembre']]"
            ]
          },
          "metadata": {
            "tags": []
          },
          "execution_count": 4
        }
      ]
    },
    {
      "cell_type": "markdown",
      "metadata": {
        "id": "G9opBWSyXvHw"
      },
      "source": [
        "### Exercici 2\n",
        "Crea un codi que et permeti accedir a:\n",
        "\n",
        "- El segon mes del primer trimestre\n",
        "- Els mesos del primer trimestre\n",
        "- Setembre i octubre"
      ]
    },
    {
      "cell_type": "code",
      "metadata": {
        "id": "z_zOdL41XXJ5",
        "outputId": "9b391b2c-dddf-48d5-f1d5-490bd79f044c",
        "colab": {
          "base_uri": "https://localhost:8080/"
        }
      },
      "source": [
        "print(f'El segon mes del primer trimestre: {mesos[0][1]}')\n",
        "print(f'Els mesos del primer trimestre: {mesos[0]}')\n",
        "print(f'{mesos[2][2]} i {mesos[3][0]}')"
      ],
      "execution_count": 13,
      "outputs": [
        {
          "output_type": "stream",
          "text": [
            "El segon mes del primer trimestre: Febrer\n",
            "Els mesos del primer trimestre: ['Gener', 'Febrer', 'Març']\n",
            "Setembre i Octubre\n"
          ],
          "name": "stdout"
        }
      ]
    },
    {
      "cell_type": "markdown",
      "metadata": {
        "id": "Rmrk8XvHa5sP"
      },
      "source": [
        "### Exercici 3\n",
        "Crea una llista amb nombres desordenats i respon a les següents preguntes:\n",
        "\n",
        "- Quants números hi ha?\n",
        "- Quantes vegades apareix el número 3\n",
        "- Quantes vegades apareixen els nombres 3 i 4?\n",
        "- Quin és el número més gran?\n",
        "- Quins són els 3 números més petits?\n",
        "- Quin és el rang d’aquesta llista?"
      ]
    },
    {
      "cell_type": "code",
      "metadata": {
        "id": "Z3lYO7MtZcXu",
        "outputId": "f872d79f-7b7c-4f21-bc74-fa272899eaeb",
        "colab": {
          "base_uri": "https://localhost:8080/"
        }
      },
      "source": [
        "# Creem una llista de 20 enters aleatoris entre 0 i 10, desordenats\n",
        "from random import randint\n",
        "x = [randint(0,10) for _ in range(10)]\n",
        "x"
      ],
      "execution_count": 51,
      "outputs": [
        {
          "output_type": "execute_result",
          "data": {
            "text/plain": [
              "[6, 4, 2, 8, 7, 10, 8, 1, 4, 3]"
            ]
          },
          "metadata": {
            "tags": []
          },
          "execution_count": 51
        }
      ]
    },
    {
      "cell_type": "code",
      "metadata": {
        "id": "lrWXj_OIb6sr",
        "outputId": "c00cefb9-4015-4753-8365-4b968677c364",
        "colab": {
          "base_uri": "https://localhost:8080/"
        }
      },
      "source": [
        "print(f'La llista conté {len(x)} números')\n",
        "print(f'El número 3 hi apareix {x.count(3)} cop(s)')\n",
        "print(f'Els nombres 3 i 4 apareixen un total de {x.count(3)+x.count(4)} cop(s)')"
      ],
      "execution_count": 52,
      "outputs": [
        {
          "output_type": "stream",
          "text": [
            "La llista conté 10 números\n",
            "El número 3 hi apareix 1 cop(s)\n",
            "Els nombres 3 i 4 apareixen un total de 3 cop(s)\n"
          ],
          "name": "stdout"
        }
      ]
    },
    {
      "cell_type": "code",
      "metadata": {
        "id": "UEtnDl1IdLXh",
        "outputId": "b8033eac-a3ba-4a79-d473-70f87c26c9d4",
        "colab": {
          "base_uri": "https://localhost:8080/"
        }
      },
      "source": [
        "x.sort() # Ordenem la llista per ordre ascendent\n",
        "print(f'La llista ordenada: {x}')\n",
        "print(f'El número més gran de la llista és {x[-1]}')\n",
        "print(f'Els 3 números més petits són {x[0:3]}')\n",
        "print(f'El rang d\\'aquesta llista és: {x[0]} - {x[-1]}')"
      ],
      "execution_count": 54,
      "outputs": [
        {
          "output_type": "stream",
          "text": [
            "La llista ordenada: [1, 2, 3, 4, 4, 6, 7, 8, 8, 10]\n",
            "El número més gran de la llista és 10\n",
            "Els 3 números més petits són [1, 2, 3]\n",
            "El rang d'aquesta llista és: 1 - 10\n"
          ],
          "name": "stdout"
        }
      ]
    },
    {
      "cell_type": "markdown",
      "metadata": {
        "id": "KhqXZyYzfuJt"
      },
      "source": [
        "### Exercici 4\n",
        "Crea un diccionari de la següent forma i respon a les preguntes:\n",
        "\n",
        "compra = { \"Pomes\" : {\"Qty\": 5, \"€\": 0.42}, \"Peres\" : {\"Qty\": 3, \"€\": 0.66} }"
      ]
    },
    {
      "cell_type": "code",
      "metadata": {
        "id": "odtx9xwUdimT",
        "outputId": "27f3eab9-4963-4902-fd1d-1a910682d36b",
        "colab": {
          "base_uri": "https://localhost:8080/"
        }
      },
      "source": [
        "compra = { 'Pomes' : {'Qty': 5, '€': 0.42}, 'Peres' : {'Qty': 3, '€': 0.66} }\n",
        "compra"
      ],
      "execution_count": 80,
      "outputs": [
        {
          "output_type": "execute_result",
          "data": {
            "text/plain": [
              "{'Peres': {'Qty': 3, '€': 0.66}, 'Pomes': {'Qty': 5, '€': 0.42}}"
            ]
          },
          "metadata": {
            "tags": []
          },
          "execution_count": 80
        }
      ]
    },
    {
      "cell_type": "markdown",
      "metadata": {
        "id": "IaPItyAKgmQB"
      },
      "source": [
        "- Afegim una fruita més"
      ]
    },
    {
      "cell_type": "code",
      "metadata": {
        "id": "gs36xv5SgAdb",
        "outputId": "9518151f-d20a-4aff-a5d2-17993eb76680",
        "colab": {
          "base_uri": "https://localhost:8080/"
        }
      },
      "source": [
        "compra['Taronges'] = {'Qty': 7, '€': 0.93}\n",
        "compra"
      ],
      "execution_count": 111,
      "outputs": [
        {
          "output_type": "execute_result",
          "data": {
            "text/plain": [
              "{'Peres': {'Qty': 3, '€': 0.66},\n",
              " 'Pomes': {'Qty': 5, '€': 0.42},\n",
              " 'Taronges': {'Qty': 7, '€': 0.93}}"
            ]
          },
          "metadata": {
            "tags": []
          },
          "execution_count": 111
        }
      ]
    },
    {
      "cell_type": "markdown",
      "metadata": {
        "id": "RPaAc47NgvvP"
      },
      "source": [
        "- Quant han costat les peres en total?"
      ]
    },
    {
      "cell_type": "code",
      "metadata": {
        "id": "bI5IDczoge7u",
        "outputId": "09279622-14fb-4291-99c6-5779302074ab",
        "colab": {
          "base_uri": "https://localhost:8080/"
        }
      },
      "source": [
        "total_peres = compra['Peres']['Qty']*compra['Peres']['€']\n",
        "print(f'En total, les peres han costat {total_peres}')"
      ],
      "execution_count": 102,
      "outputs": [
        {
          "output_type": "stream",
          "text": [
            "En total, les peres han costat 1.98\n"
          ],
          "name": "stdout"
        }
      ]
    },
    {
      "cell_type": "markdown",
      "metadata": {
        "id": "59unJsszh7de"
      },
      "source": [
        "- Quantes fruites hem comprat en total?"
      ]
    },
    {
      "cell_type": "code",
      "metadata": {
        "id": "uWYrXwGXh-jO",
        "outputId": "8c09dbd4-6c80-4d4c-82c9-e4ec86980962",
        "colab": {
          "base_uri": "https://localhost:8080/"
        }
      },
      "source": [
        "qty_total = 0\n",
        "\n",
        "for _,fruita in compra.items():\n",
        "  qty_total += fruita['Qty']\n",
        "\n",
        "print(f'En total, hem comprat {qty_total} peces de fruita')\n",
        "print(f'Hem comprat {len(compra.keys())} tipus de fruites diferents ')"
      ],
      "execution_count": 103,
      "outputs": [
        {
          "output_type": "stream",
          "text": [
            "En total, hem comprat 15 peces de fruita\n",
            "Hem comprat 3 tipus de fruites diferents \n"
          ],
          "name": "stdout"
        }
      ]
    },
    {
      "cell_type": "markdown",
      "metadata": {
        "id": "DOMEe_GFh9oT"
      },
      "source": [
        "- Quina és la fruita més cara?"
      ]
    },
    {
      "cell_type": "code",
      "metadata": {
        "id": "4WdKoSiwhLgr",
        "outputId": "93e80a1c-444a-4cc6-ed2f-9ffad70f94bd",
        "colab": {
          "base_uri": "https://localhost:8080/"
        }
      },
      "source": [
        "compra_ordenada = sorted(compra.items(), key=lambda item: item[1]['€']) # Llista de tuples, ordenat per preu ascendent\n",
        "print(compra_ordenada)\n",
        "\n",
        "print(f'\\nLa fruita més cara són els/les {compra_ordenada[-1][0]}')"
      ],
      "execution_count": 113,
      "outputs": [
        {
          "output_type": "stream",
          "text": [
            "[('Pomes', {'Qty': 5, '€': 0.42}), ('Peres', {'Qty': 3, '€': 0.66}), ('Taronges', {'Qty': 7, '€': 0.93})]\n",
            "\n",
            "La fruita més cara són els/les Taronges\n"
          ],
          "name": "stdout"
        }
      ]
    }
  ]
}