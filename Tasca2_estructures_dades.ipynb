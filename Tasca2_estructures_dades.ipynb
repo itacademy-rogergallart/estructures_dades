{
  "nbformat": 4,
  "nbformat_minor": 0,
  "metadata": {
    "colab": {
      "name": "Tasca2_estructures_dades.ipynb",
      "provenance": [],
      "authorship_tag": "ABX9TyMjmpToZ5ZL/0j2LSk1gRkB",
      "include_colab_link": true
    },
    "kernelspec": {
      "name": "python3",
      "display_name": "Python 3"
    },
    "language_info": {
      "name": "python"
    }
  },
  "cells": [
    {
      "cell_type": "markdown",
      "metadata": {
        "id": "view-in-github",
        "colab_type": "text"
      },
      "source": [
        "<a href=\"https://colab.research.google.com/github/itacademy-rogergallart/estructures_dades/blob/main/Tasca2_estructures_dades.ipynb\" target=\"_parent\"><img src=\"https://colab.research.google.com/assets/colab-badge.svg\" alt=\"Open In Colab\"/></a>"
      ]
    },
    {
      "cell_type": "markdown",
      "metadata": {
        "id": "hKCViIzy4ISt"
      },
      "source": [
        "# Tasca 2: Estructures de dades"
      ]
    },
    {
      "cell_type": "code",
      "metadata": {
        "id": "o6Z_yIe94GZX"
      },
      "source": [
        ""
      ],
      "execution_count": null,
      "outputs": []
    }
  ]
}