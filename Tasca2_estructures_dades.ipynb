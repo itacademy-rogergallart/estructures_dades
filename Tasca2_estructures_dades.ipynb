{
  "nbformat": 4,
  "nbformat_minor": 0,
  "metadata": {
    "colab": {
      "name": "Tasca2_estructures_dades.ipynb",
      "provenance": [],
      "authorship_tag": "ABX9TyM05lI8Z2G1uUNmmJfpSe8h"
    },
    "kernelspec": {
      "name": "python3",
      "display_name": "Python 3"
    },
    "language_info": {
      "name": "python"
    }
  },
  "cells": [
    {
      "cell_type": "markdown",
      "metadata": {
        "id": "hKCViIzy4ISt"
      },
      "source": [
        "# Tasca 2: Estructures de dades\n",
        "Roger Gallart - 19 abril 2021"
      ]
    },
    {
      "cell_type": "markdown",
      "metadata": {
        "id": "Cau-T24iWzDh"
      },
      "source": [
        "## Nivell 1"
      ]
    },
    {
      "cell_type": "markdown",
      "metadata": {
        "id": "2326yxLrW2I6"
      },
      "source": [
        "### Exercici 1\n",
        "Crea una llista que agrupi els mesos de l’any en trimestres (1T: Gener, Febrer i Març, 2T: Abril, Maig, Juny...), és a dir, una llista amb 4 llistes dins."
      ]
    },
    {
      "cell_type": "code",
      "metadata": {
        "id": "o6Z_yIe94GZX",
        "colab": {
          "base_uri": "https://localhost:8080/"
        },
        "outputId": "220ac01e-6c2d-434b-a566-a0ae4a8d7980"
      },
      "source": [
        "mesos = [['Gener','Febrer','Març'],\n",
        "                       ['Abril','Maig','Juny'],\n",
        "                       ['Juliol','Agost','Setembre'],\n",
        "                       ['Octubre','Novembre','Desembre']]\n",
        "mesos"
      ],
      "execution_count": null,
      "outputs": [
        {
          "output_type": "execute_result",
          "data": {
            "text/plain": [
              "[['Gener', 'Febrer', 'Març'],\n",
              " ['Abril', 'Maig', 'Juny'],\n",
              " ['Juliol', 'Agost', 'Setembre'],\n",
              " ['Octubre', 'Novembre', 'Desembre']]"
            ]
          },
          "metadata": {
            "tags": []
          },
          "execution_count": 114
        }
      ]
    },
    {
      "cell_type": "markdown",
      "metadata": {
        "id": "G9opBWSyXvHw"
      },
      "source": [
        "### Exercici 2\n",
        "Crea un codi que et permeti accedir a:\n",
        "\n",
        "- El segon mes del primer trimestre\n",
        "- Els mesos del primer trimestre\n",
        "- Setembre i octubre"
      ]
    },
    {
      "cell_type": "code",
      "metadata": {
        "colab": {
          "base_uri": "https://localhost:8080/"
        },
        "id": "z_zOdL41XXJ5",
        "outputId": "c5b15960-536e-48dd-9c0f-442b22af7d83"
      },
      "source": [
        "print(f'El segon mes del primer trimestre: {mesos[0][1]}')\n",
        "print(f'Els mesos del primer trimestre: {mesos[0]}')\n",
        "print(f'{mesos[2][2]} i {mesos[3][0]}')"
      ],
      "execution_count": null,
      "outputs": [
        {
          "output_type": "stream",
          "text": [
            "El segon mes del primer trimestre: Febrer\n",
            "Els mesos del primer trimestre: ['Gener', 'Febrer', 'Març']\n",
            "Setembre i Octubre\n"
          ],
          "name": "stdout"
        }
      ]
    },
    {
      "cell_type": "markdown",
      "metadata": {
        "id": "Rmrk8XvHa5sP"
      },
      "source": [
        "### Exercici 3\n",
        "Crea una llista amb nombres desordenats i respon a les següents preguntes:\n",
        "\n",
        "- Quants números hi ha?\n",
        "- Quantes vegades apareix el número 3\n",
        "- Quantes vegades apareixen els nombres 3 i 4?\n",
        "- Quin és el número més gran?\n",
        "- Quins són els 3 números més petits?\n",
        "- Quin és el rang d’aquesta llista?"
      ]
    },
    {
      "cell_type": "code",
      "metadata": {
        "colab": {
          "base_uri": "https://localhost:8080/"
        },
        "id": "Z3lYO7MtZcXu",
        "outputId": "f2fb3c9b-1d2e-4765-af12-0c4eaf3a4321"
      },
      "source": [
        "# Creem una llista de 10 enters aleatoris entre 0 i 10, desordenats\n",
        "from random import randint\n",
        "x = [randint(0,10) for _ in range(10)]\n",
        "x"
      ],
      "execution_count": null,
      "outputs": [
        {
          "output_type": "execute_result",
          "data": {
            "text/plain": [
              "[0, 6, 7, 1, 2, 1, 6, 4, 4, 3]"
            ]
          },
          "metadata": {
            "tags": []
          },
          "execution_count": 116
        }
      ]
    },
    {
      "cell_type": "code",
      "metadata": {
        "colab": {
          "base_uri": "https://localhost:8080/"
        },
        "id": "lrWXj_OIb6sr",
        "outputId": "314929e5-007c-4575-f039-0d523c8a1035"
      },
      "source": [
        "print(f'La llista conté {len(x)} números')\n",
        "print(f'El número 3 hi apareix {x.count(3)} cop(s)')\n",
        "print(f'Els nombres 3 i 4 apareixen un total de {x.count(3)+x.count(4)} cop(s)')"
      ],
      "execution_count": null,
      "outputs": [
        {
          "output_type": "stream",
          "text": [
            "La llista conté 10 números\n",
            "El número 3 hi apareix 1 cop(s)\n",
            "Els nombres 3 i 4 apareixen un total de 3 cop(s)\n"
          ],
          "name": "stdout"
        }
      ]
    },
    {
      "cell_type": "code",
      "metadata": {
        "colab": {
          "base_uri": "https://localhost:8080/"
        },
        "id": "UEtnDl1IdLXh",
        "outputId": "c6c5c4a5-d399-48ed-e97a-70322d5563bc"
      },
      "source": [
        "x.sort() # Ordenem la llista per ordre ascendent\n",
        "print(f'La llista ordenada: {x}')\n",
        "print(f'El número més gran de la llista és {x[-1]}')\n",
        "print(f'Els 3 números més petits són {x[0:3]}')\n",
        "print(f'El rang d\\'aquesta llista és: {x[0]} - {x[-1]}')"
      ],
      "execution_count": null,
      "outputs": [
        {
          "output_type": "stream",
          "text": [
            "La llista ordenada: [0, 1, 1, 2, 3, 4, 4, 6, 6, 7]\n",
            "El número més gran de la llista és 7\n",
            "Els 3 números més petits són [0, 1, 1]\n",
            "El rang d'aquesta llista és: 0 - 7\n"
          ],
          "name": "stdout"
        }
      ]
    },
    {
      "cell_type": "markdown",
      "metadata": {
        "id": "KhqXZyYzfuJt"
      },
      "source": [
        "### Exercici 4\n",
        "Crea un diccionari de la següent forma i respon a les preguntes:\n",
        "\n",
        "compra = { \"Pomes\" : {\"Qty\": 5, \"€\": 0.42}, \"Peres\" : {\"Qty\": 3, \"€\": 0.66} }"
      ]
    },
    {
      "cell_type": "code",
      "metadata": {
        "colab": {
          "base_uri": "https://localhost:8080/"
        },
        "id": "odtx9xwUdimT",
        "outputId": "561cb221-8597-4571-cf99-72a02f2d5c69"
      },
      "source": [
        "compra = { 'Pomes' : {'Qty': 5, '€': 0.42}, 'Peres' : {'Qty': 3, '€': 0.66} }\n",
        "compra"
      ],
      "execution_count": null,
      "outputs": [
        {
          "output_type": "execute_result",
          "data": {
            "text/plain": [
              "{'Peres': {'Qty': 3, '€': 0.66}, 'Pomes': {'Qty': 5, '€': 0.42}}"
            ]
          },
          "metadata": {
            "tags": []
          },
          "execution_count": 119
        }
      ]
    },
    {
      "cell_type": "markdown",
      "metadata": {
        "id": "IaPItyAKgmQB"
      },
      "source": [
        "- Afegeix alguna fruita més"
      ]
    },
    {
      "cell_type": "code",
      "metadata": {
        "colab": {
          "base_uri": "https://localhost:8080/"
        },
        "id": "gs36xv5SgAdb",
        "outputId": "c5c60651-4bf3-4014-d899-445ce2b81d20"
      },
      "source": [
        "compra['Taronges'] = {'Qty': 7, '€': 0.93}\n",
        "compra"
      ],
      "execution_count": null,
      "outputs": [
        {
          "output_type": "execute_result",
          "data": {
            "text/plain": [
              "{'Peres': {'Qty': 3, '€': 0.66},\n",
              " 'Pomes': {'Qty': 5, '€': 0.42},\n",
              " 'Taronges': {'Qty': 7, '€': 0.93}}"
            ]
          },
          "metadata": {
            "tags": []
          },
          "execution_count": 124
        }
      ]
    },
    {
      "cell_type": "markdown",
      "metadata": {
        "id": "RPaAc47NgvvP"
      },
      "source": [
        "- Quant han costat les peres en total?"
      ]
    },
    {
      "cell_type": "code",
      "metadata": {
        "colab": {
          "base_uri": "https://localhost:8080/"
        },
        "id": "bI5IDczoge7u",
        "outputId": "454e20d7-876a-43b8-f6a6-79ffc6ae51ac"
      },
      "source": [
        "total_peres = compra['Peres']['Qty']*compra['Peres']['€']\n",
        "print(f'En total, les peres han costat {total_peres}')"
      ],
      "execution_count": null,
      "outputs": [
        {
          "output_type": "stream",
          "text": [
            "En total, les peres han costat 1.98\n"
          ],
          "name": "stdout"
        }
      ]
    },
    {
      "cell_type": "markdown",
      "metadata": {
        "id": "59unJsszh7de"
      },
      "source": [
        "- Quantes fruites hem comprat en total?"
      ]
    },
    {
      "cell_type": "code",
      "metadata": {
        "colab": {
          "base_uri": "https://localhost:8080/"
        },
        "id": "uWYrXwGXh-jO",
        "outputId": "4664d602-b41c-46ea-c0e3-e994dbc301b1"
      },
      "source": [
        "qty_total = 0\n",
        "\n",
        "for _,fruita in compra.items():\n",
        "  qty_total += fruita['Qty']\n",
        "\n",
        "print(f'En total, hem comprat {qty_total} peces de fruita')\n",
        "print(f'Hem comprat {len(compra.keys())} tipus de fruites diferents ')"
      ],
      "execution_count": null,
      "outputs": [
        {
          "output_type": "stream",
          "text": [
            "En total, hem comprat 15 peces de fruita\n",
            "Hem comprat 3 tipus de fruites diferents \n"
          ],
          "name": "stdout"
        }
      ]
    },
    {
      "cell_type": "markdown",
      "metadata": {
        "id": "DOMEe_GFh9oT"
      },
      "source": [
        "- Quina és la fruita més cara?"
      ]
    },
    {
      "cell_type": "code",
      "metadata": {
        "colab": {
          "base_uri": "https://localhost:8080/"
        },
        "id": "4WdKoSiwhLgr",
        "outputId": "9887b0fc-e347-45fd-dac6-cee9dcb1cb35"
      },
      "source": [
        "compra_ordenada = sorted(compra.items(), key=lambda item: item[1]['€']) # Llista de tuples, ordenat per preu ascendent\n",
        "print(compra_ordenada)\n",
        "\n",
        "print(f'\\nLa fruita més cara són els/les {compra_ordenada[-1][0]}')"
      ],
      "execution_count": null,
      "outputs": [
        {
          "output_type": "stream",
          "text": [
            "[('Pomes', {'Qty': 5, '€': 0.42}), ('Peres', {'Qty': 3, '€': 0.66}), ('Taronges', {'Qty': 7, '€': 0.93})]\n",
            "\n",
            "La fruita més cara són els/les Taronges\n"
          ],
          "name": "stdout"
        }
      ]
    }
  ]
}